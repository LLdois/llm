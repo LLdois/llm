{
 "cells": [
  {
   "cell_type": "code",
   "execution_count": null,
   "metadata": {},
   "outputs": [],
   "source": [
    "import torch"
   ]
  },
  {
   "cell_type": "code",
   "execution_count": 30,
   "metadata": {},
   "outputs": [
    {
     "data": {
      "text/plain": [
       "tensor([[1, 1, 0, 0],\n",
       "        [1, 1, 1, 0]])"
      ]
     },
     "execution_count": 30,
     "metadata": {},
     "output_type": "execute_result"
    }
   ],
   "source": [
    "a = torch.tensor([[1,1,0,0],[1,1,1,0]])\n",
    "a"
   ]
  },
  {
   "cell_type": "code",
   "execution_count": 54,
   "metadata": {},
   "outputs": [
    {
     "data": {
      "text/plain": [
       "tensor([[1, 1, 1, 1, 1, 1, 1, 1, 0, 0, 0, 0, 0, 0, 0, 0],\n",
       "        [1, 1, 1, 1, 1, 1, 1, 1, 1, 1, 1, 1, 0, 0, 0, 0]])"
      ]
     },
     "execution_count": 54,
     "metadata": {},
     "output_type": "execute_result"
    }
   ],
   "source": [
    "c = a.repeat_interleave(a.size(-1),dim=1)\n",
    "c"
   ]
  },
  {
   "cell_type": "code",
   "execution_count": 52,
   "metadata": {},
   "outputs": [
    {
     "data": {
      "text/plain": [
       "torch.Size([8, 4])"
      ]
     },
     "execution_count": 52,
     "metadata": {},
     "output_type": "execute_result"
    }
   ],
   "source": [
    "c.shape"
   ]
  },
  {
   "cell_type": "code",
   "execution_count": 53,
   "metadata": {},
   "outputs": [
    {
     "data": {
      "text/plain": [
       "tensor([[[1, 1, 1, 1],\n",
       "         [1, 1, 1, 1],\n",
       "         [0, 0, 0, 0],\n",
       "         [0, 0, 0, 0]],\n",
       "\n",
       "        [[1, 1, 1, 1],\n",
       "         [1, 1, 1, 1],\n",
       "         [1, 1, 1, 1],\n",
       "         [0, 0, 0, 0]]])"
      ]
     },
     "execution_count": 53,
     "metadata": {},
     "output_type": "execute_result"
    }
   ],
   "source": [
    "b = a.repeat_interleave(a.size(-1),dim=1).reshape(2,4,4)\n",
    "b"
   ]
  },
  {
   "cell_type": "code",
   "execution_count": 27,
   "metadata": {},
   "outputs": [
    {
     "data": {
      "text/plain": [
       "torch.Size([2, 3, 3])"
      ]
     },
     "execution_count": 27,
     "metadata": {},
     "output_type": "execute_result"
    }
   ],
   "source": [
    "b.shape"
   ]
  },
  {
   "cell_type": "code",
   "execution_count": 10,
   "metadata": {},
   "outputs": [
    {
     "name": "stdout",
     "output_type": "stream",
     "text": [
      "Help on built-in function repeat_interleave:\n",
      "\n",
      "repeat_interleave(...) method of torch.Tensor instance\n",
      "    repeat_interleave(repeats, dim=None, *, output_size=None) -> Tensor\n",
      "    \n",
      "    See :func:`torch.repeat_interleave`.\n",
      "\n"
     ]
    }
   ],
   "source": [
    "help(a.repeat_interleave)"
   ]
  },
  {
   "cell_type": "code",
   "execution_count": 9,
   "metadata": {},
   "outputs": [
    {
     "name": "stdout",
     "output_type": "stream",
     "text": [
      "Help on built-in function repeat:\n",
      "\n",
      "repeat(...) method of torch.Tensor instance\n",
      "    repeat(*repeats) -> Tensor\n",
      "    \n",
      "    Repeats this tensor along the specified dimensions.\n",
      "    \n",
      "    Unlike :meth:`~Tensor.expand`, this function copies the tensor's data.\n",
      "    \n",
      "    .. warning::\n",
      "    \n",
      "        :meth:`~Tensor.repeat` behaves differently from\n",
      "        `numpy.repeat <https://docs.scipy.org/doc/numpy/reference/generated/numpy.repeat.html>`_,\n",
      "        but is more similar to\n",
      "        `numpy.tile <https://docs.scipy.org/doc/numpy/reference/generated/numpy.tile.html>`_.\n",
      "        For the operator similar to `numpy.repeat`, see :func:`torch.repeat_interleave`.\n",
      "    \n",
      "    Args:\n",
      "        repeat (torch.Size, int..., tuple of int or list of int): The number of times to repeat this tensor along each dimension\n",
      "    \n",
      "    Example::\n",
      "    \n",
      "        >>> x = torch.tensor([1, 2, 3])\n",
      "        >>> x.repeat(4, 2)\n",
      "        tensor([[ 1,  2,  3,  1,  2,  3],\n",
      "                [ 1,  2,  3,  1,  2,  3],\n",
      "                [ 1,  2,  3,  1,  2,  3],\n",
      "                [ 1,  2,  3,  1,  2,  3]])\n",
      "        >>> x.repeat(4, 2, 1).size()\n",
      "        torch.Size([4, 2, 3])\n",
      "\n"
     ]
    }
   ],
   "source": [
    "help(a.repeat)"
   ]
  },
  {
   "cell_type": "code",
   "execution_count": 55,
   "metadata": {},
   "outputs": [
    {
     "data": {
      "text/plain": [
       "tensor(-2980.9580)"
      ]
     },
     "execution_count": 55,
     "metadata": {},
     "output_type": "execute_result"
    }
   ],
   "source": [
    "-torch.exp(torch.tensor(8))"
   ]
  },
  {
   "cell_type": "code",
   "execution_count": 67,
   "metadata": {},
   "outputs": [
    {
     "data": {
      "text/plain": [
       "torch.Size([3, 2])"
      ]
     },
     "execution_count": 67,
     "metadata": {},
     "output_type": "execute_result"
    }
   ],
   "source": [
    "x.size()"
   ]
  },
  {
   "cell_type": "code",
   "execution_count": 34,
   "metadata": {},
   "outputs": [
    {
     "data": {
      "text/plain": [
       "torch.Size([2, 4, 4])"
      ]
     },
     "execution_count": 34,
     "metadata": {},
     "output_type": "execute_result"
    }
   ],
   "source": [
    "input = torch.tensor([[1,7,3,8],[1,7,3,8]])\n",
    "input = input.repeat_interleave(input.size(-1), dim=0).reshape(input.size(0), input.size(1), -1)\n",
    "input.shape\n"
   ]
  },
  {
   "cell_type": "code",
   "execution_count": 30,
   "metadata": {},
   "outputs": [
    {
     "data": {
      "text/plain": [
       "tensor([[[False, False,  True,  True],\n",
       "         [False, False,  True,  True],\n",
       "         [False, False,  True,  True],\n",
       "         [False, False,  True,  True]],\n",
       "\n",
       "        [[False, False, False,  True],\n",
       "         [False, False, False,  True],\n",
       "         [False, False, False,  True],\n",
       "         [False, False, False,  True]]])"
      ]
     },
     "execution_count": 30,
     "metadata": {},
     "output_type": "execute_result"
    }
   ],
   "source": [
    "x_bool = (x == 0) \n",
    "x_bool"
   ]
  },
  {
   "cell_type": "code",
   "execution_count": 29,
   "metadata": {},
   "outputs": [
    {
     "data": {
      "text/plain": [
       "tensor([[[-2, -2, -1, -1],\n",
       "         [-2, -2, -1, -1],\n",
       "         [-2, -2, -1, -1],\n",
       "         [-2, -2, -1, -1]],\n",
       "\n",
       "        [[-2, -2, -2, -1],\n",
       "         [-2, -2, -2, -1],\n",
       "         [-2, -2, -2, -1],\n",
       "         [-2, -2, -2, -1]]])"
      ]
     },
     "execution_count": 29,
     "metadata": {},
     "output_type": "execute_result"
    }
   ],
   "source": [
    "~x"
   ]
  },
  {
   "cell_type": "code",
   "execution_count": 32,
   "metadata": {},
   "outputs": [
    {
     "data": {
      "text/plain": [
       "tensor([[[False, False,  True,  True],\n",
       "         [False, False,  True,  True],\n",
       "         [False, False,  True,  True],\n",
       "         [False, False,  True,  True]],\n",
       "\n",
       "        [[False, False, False,  True],\n",
       "         [False, False, False,  True],\n",
       "         [False, False, False,  True],\n",
       "         [False, False, False,  True]]])"
      ]
     },
     "execution_count": 32,
     "metadata": {},
     "output_type": "execute_result"
    }
   ],
   "source": [
    "x"
   ]
  },
  {
   "cell_type": "code",
   "execution_count": null,
   "metadata": {},
   "outputs": [],
   "source": []
  },
  {
   "cell_type": "code",
   "execution_count": 35,
   "metadata": {},
   "outputs": [
    {
     "name": "stdout",
     "output_type": "stream",
     "text": [
      "torch.Size([2, 4])\n",
      "tensor([[1, 1, 0, 0],\n",
      "        [1, 1, 1, 0]])\n",
      "torch.Size([2, 4, 4])\n",
      "tensor([[[1, 1, 0, 0],\n",
      "         [1, 1, 0, 0],\n",
      "         [1, 1, 0, 0],\n",
      "         [1, 1, 0, 0]],\n",
      "\n",
      "        [[1, 1, 1, 0],\n",
      "         [1, 1, 1, 0],\n",
      "         [1, 1, 1, 0],\n",
      "         [1, 1, 1, 0]]])\n",
      "tensor([[1, 1, 1, 0],\n",
      "        [1, 1, 1, 0],\n",
      "        [1, 1, 1, 0],\n",
      "        [1, 1, 1, 0]])\n",
      "tensor([[[ 1,  7, 88, 88],\n",
      "         [ 1,  7, 88, 88],\n",
      "         [ 1,  7, 88, 88],\n",
      "         [ 1,  7, 88, 88]],\n",
      "\n",
      "        [[ 1,  7,  3, 88],\n",
      "         [ 1,  7,  3, 88],\n",
      "         [ 1,  7,  3, 88],\n",
      "         [ 1,  7,  3, 88]]])\n"
     ]
    }
   ],
   "source": [
    "x = torch.tensor([[1,1,0,0],[1,1,1,0]])\n",
    "print(x.size())\n",
    "print(x)\n",
    "x = x.repeat_interleave(x.size(-1), dim=0).reshape(x.size(0), x.size(1), -1)\n",
    "# x = x.unsqueeze(1).expand(2,4,4)\n",
    "print(x.size())\n",
    "print(x)\n",
    "print(x[1])\n",
    "# print(x)\n",
    "# x = (x==0)\n",
    "input[x==0] = 88\n",
    "print(input)"
   ]
  },
  {
   "cell_type": "code",
   "execution_count": 19,
   "metadata": {},
   "outputs": [
    {
     "name": "stdout",
     "output_type": "stream",
     "text": [
      "tensor([[1, 1, 0],\n",
      "        [1, 0, 0]])\n",
      "tensor([[False],\n",
      "        [ True]])\n",
      "torch.Size([2, 1])\n"
     ]
    }
   ],
   "source": [
    "import torch\n",
    "\n",
    "# 原始张量\n",
    "tensor = torch.tensor([[1, 1, 0], [1, 0, 0]])\n",
    "\n",
    "# 扩展为三维张量\n",
    "# expanded_tensor = tensor.unsqueeze(2).expand(2,3,4)  # 在第三维重复\n",
    "br = torch.tensor([[0],[1]])\n",
    "br = br==1\n",
    "\n",
    "print(tensor)\n",
    "\n",
    "print(br)\n",
    "print(br.shape)\n"
   ]
  },
  {
   "cell_type": "code",
   "execution_count": 21,
   "metadata": {},
   "outputs": [
    {
     "data": {
      "text/plain": [
       "tensor([[ 1,  1,  0],\n",
       "        [88, 88, 88]])"
      ]
     },
     "execution_count": 21,
     "metadata": {},
     "output_type": "execute_result"
    }
   ],
   "source": [
    "tensor.masked_fill_(br,88)"
   ]
  },
  {
   "cell_type": "code",
   "execution_count": 11,
   "metadata": {},
   "outputs": [
    {
     "name": "stdout",
     "output_type": "stream",
     "text": [
      "tensor([[-0.8798, -1.1283, -0.2033],\n",
      "        [-0.1010,  0.7691,  0.5724],\n",
      "        [-0.7805,  0.8530, -0.0343],\n",
      "        [ 1.3946,  2.0701, -0.6976]])\n",
      "tensor([[-0.0000, -1.4104, -0.0000],\n",
      "        [-0.1262,  0.9614,  0.7154],\n",
      "        [-0.9756,  1.0662, -0.0429],\n",
      "        [ 0.0000,  2.5877, -0.0000]])\n",
      "tensor([[-0.8798, -1.1283, -0.2033],\n",
      "        [-0.1010,  0.7691,  0.5724],\n",
      "        [-0.7805,  0.8530, -0.0343],\n",
      "        [ 1.3946,  2.0701, -0.6976]])\n",
      "tensor([[-1.0998, -0.0000, -0.2542],\n",
      "        [-0.1262,  0.9614,  0.7154],\n",
      "        [-0.9756,  1.0662, -0.0429],\n",
      "        [ 1.7432,  2.5877, -0.0000]])\n"
     ]
    }
   ],
   "source": [
    "import torch\n",
    "import torch.nn as nn\n",
    "m = nn.Dropout(p=0.2)\n",
    "input = torch.randn(4, 3)\n",
    "output = m(input)\n",
    "print(input)\n",
    "print(output)\n",
    "output = m(input)\n",
    "print(input)\n",
    "print(output)"
   ]
  },
  {
   "cell_type": "code",
   "execution_count": 22,
   "metadata": {},
   "outputs": [
    {
     "name": "stdout",
     "output_type": "stream",
     "text": [
      "tensor([2.7528, 2.5153, 1.5930, 3.3648, 2.6590, 4.4445, 1.6726, 3.3772, 2.4977,\n",
      "        1.6535, 3.0751, 2.8612])\n"
     ]
    }
   ],
   "source": [
    "import torch\n",
    "logits = torch.randn(12, 10)  # 随机生成 logits\n",
    "target = torch.randint(0, 10, (12,))  # 随机生成标签\n",
    "import torch.nn as nn\n",
    "\n",
    "criterion = nn.CrossEntropyLoss(reduction = \"none\")\n",
    "loss = criterion(logits, target)  # 输出标量\n",
    "print(loss)"
   ]
  },
  {
   "cell_type": "code",
   "execution_count": 26,
   "metadata": {},
   "outputs": [
    {
     "name": "stdout",
     "output_type": "stream",
     "text": [
      "torch.Size([32, 100, 512])\n"
     ]
    }
   ],
   "source": [
    "import torch\n",
    "from torch import nn\n",
    "transformer_model = nn.Transformer(nhead=16, num_encoder_layers=12,batch_first=True)\n",
    "src = torch.rand((32,100, 512))\n",
    "tgt = torch.rand((32,100, 512))\n",
    "out = transformer_model(src, tgt)\n",
    "print(out.shape)"
   ]
  },
  {
   "cell_type": "code",
   "execution_count": null,
   "metadata": {},
   "outputs": [
    {
     "name": "stdout",
     "output_type": "stream",
     "text": [
      "CPU times: user 7 μs, sys: 0 ns, total: 7 μs\n",
      "Wall time: 14.3 μs\n"
     ]
    }
   ],
   "source": [
    "%time\n",
    "import torch\n",
    "a = torch.randn((3000,3000))\n",
    "b = torch.randn((3000,3000))\n",
    "print((a@b)[0:3,0:3])"
   ]
  }
 ],
 "metadata": {
  "kernelspec": {
   "display_name": "llm",
   "language": "python",
   "name": "python3"
  },
  "language_info": {
   "codemirror_mode": {
    "name": "ipython",
    "version": 3
   },
   "file_extension": ".py",
   "mimetype": "text/x-python",
   "name": "python",
   "nbconvert_exporter": "python",
   "pygments_lexer": "ipython3",
   "version": "3.10.16"
  }
 },
 "nbformat": 4,
 "nbformat_minor": 2
}
