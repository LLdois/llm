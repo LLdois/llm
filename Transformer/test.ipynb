{
 "cells": [
  {
   "cell_type": "code",
   "execution_count": null,
   "metadata": {},
   "outputs": [],
   "source": [
    "import torch"
   ]
  },
  {
   "cell_type": "code",
   "execution_count": 30,
   "metadata": {},
   "outputs": [
    {
     "data": {
      "text/plain": [
       "tensor([[1, 1, 0, 0],\n",
       "        [1, 1, 1, 0]])"
      ]
     },
     "execution_count": 30,
     "metadata": {},
     "output_type": "execute_result"
    }
   ],
   "source": [
    "a = torch.tensor([[1,1,0,0],[1,1,1,0]])\n",
    "a"
   ]
  },
  {
   "cell_type": "code",
   "execution_count": 54,
   "metadata": {},
   "outputs": [
    {
     "data": {
      "text/plain": [
       "tensor([[1, 1, 1, 1, 1, 1, 1, 1, 0, 0, 0, 0, 0, 0, 0, 0],\n",
       "        [1, 1, 1, 1, 1, 1, 1, 1, 1, 1, 1, 1, 0, 0, 0, 0]])"
      ]
     },
     "execution_count": 54,
     "metadata": {},
     "output_type": "execute_result"
    }
   ],
   "source": [
    "c = a.repeat_interleave(a.size(-1),dim=1)\n",
    "c"
   ]
  },
  {
   "cell_type": "code",
   "execution_count": 52,
   "metadata": {},
   "outputs": [
    {
     "data": {
      "text/plain": [
       "torch.Size([8, 4])"
      ]
     },
     "execution_count": 52,
     "metadata": {},
     "output_type": "execute_result"
    }
   ],
   "source": [
    "c.shape"
   ]
  },
  {
   "cell_type": "code",
   "execution_count": 53,
   "metadata": {},
   "outputs": [
    {
     "data": {
      "text/plain": [
       "tensor([[[1, 1, 1, 1],\n",
       "         [1, 1, 1, 1],\n",
       "         [0, 0, 0, 0],\n",
       "         [0, 0, 0, 0]],\n",
       "\n",
       "        [[1, 1, 1, 1],\n",
       "         [1, 1, 1, 1],\n",
       "         [1, 1, 1, 1],\n",
       "         [0, 0, 0, 0]]])"
      ]
     },
     "execution_count": 53,
     "metadata": {},
     "output_type": "execute_result"
    }
   ],
   "source": [
    "b = a.repeat_interleave(a.size(-1),dim=1).reshape(2,4,4)\n",
    "b"
   ]
  },
  {
   "cell_type": "code",
   "execution_count": 27,
   "metadata": {},
   "outputs": [
    {
     "data": {
      "text/plain": [
       "torch.Size([2, 3, 3])"
      ]
     },
     "execution_count": 27,
     "metadata": {},
     "output_type": "execute_result"
    }
   ],
   "source": [
    "b.shape"
   ]
  },
  {
   "cell_type": "code",
   "execution_count": 10,
   "metadata": {},
   "outputs": [
    {
     "name": "stdout",
     "output_type": "stream",
     "text": [
      "Help on built-in function repeat_interleave:\n",
      "\n",
      "repeat_interleave(...) method of torch.Tensor instance\n",
      "    repeat_interleave(repeats, dim=None, *, output_size=None) -> Tensor\n",
      "    \n",
      "    See :func:`torch.repeat_interleave`.\n",
      "\n"
     ]
    }
   ],
   "source": [
    "help(a.repeat_interleave)"
   ]
  },
  {
   "cell_type": "code",
   "execution_count": 9,
   "metadata": {},
   "outputs": [
    {
     "name": "stdout",
     "output_type": "stream",
     "text": [
      "Help on built-in function repeat:\n",
      "\n",
      "repeat(...) method of torch.Tensor instance\n",
      "    repeat(*repeats) -> Tensor\n",
      "    \n",
      "    Repeats this tensor along the specified dimensions.\n",
      "    \n",
      "    Unlike :meth:`~Tensor.expand`, this function copies the tensor's data.\n",
      "    \n",
      "    .. warning::\n",
      "    \n",
      "        :meth:`~Tensor.repeat` behaves differently from\n",
      "        `numpy.repeat <https://docs.scipy.org/doc/numpy/reference/generated/numpy.repeat.html>`_,\n",
      "        but is more similar to\n",
      "        `numpy.tile <https://docs.scipy.org/doc/numpy/reference/generated/numpy.tile.html>`_.\n",
      "        For the operator similar to `numpy.repeat`, see :func:`torch.repeat_interleave`.\n",
      "    \n",
      "    Args:\n",
      "        repeat (torch.Size, int..., tuple of int or list of int): The number of times to repeat this tensor along each dimension\n",
      "    \n",
      "    Example::\n",
      "    \n",
      "        >>> x = torch.tensor([1, 2, 3])\n",
      "        >>> x.repeat(4, 2)\n",
      "        tensor([[ 1,  2,  3,  1,  2,  3],\n",
      "                [ 1,  2,  3,  1,  2,  3],\n",
      "                [ 1,  2,  3,  1,  2,  3],\n",
      "                [ 1,  2,  3,  1,  2,  3]])\n",
      "        >>> x.repeat(4, 2, 1).size()\n",
      "        torch.Size([4, 2, 3])\n",
      "\n"
     ]
    }
   ],
   "source": [
    "help(a.repeat)"
   ]
  },
  {
   "cell_type": "code",
   "execution_count": 55,
   "metadata": {},
   "outputs": [
    {
     "data": {
      "text/plain": [
       "tensor(-2980.9580)"
      ]
     },
     "execution_count": 55,
     "metadata": {},
     "output_type": "execute_result"
    }
   ],
   "source": [
    "-torch.exp(torch.tensor(8))"
   ]
  },
  {
   "cell_type": "code",
   "execution_count": 67,
   "metadata": {},
   "outputs": [
    {
     "data": {
      "text/plain": [
       "torch.Size([3, 2])"
      ]
     },
     "execution_count": 67,
     "metadata": {},
     "output_type": "execute_result"
    }
   ],
   "source": [
    "x.size()"
   ]
  },
  {
   "cell_type": "code",
   "execution_count": 34,
   "metadata": {},
   "outputs": [
    {
     "data": {
      "text/plain": [
       "torch.Size([2, 4, 4])"
      ]
     },
     "execution_count": 34,
     "metadata": {},
     "output_type": "execute_result"
    }
   ],
   "source": [
    "input = torch.tensor([[1,7,3,8],[1,7,3,8]])\n",
    "input = input.repeat_interleave(input.size(-1), dim=0).reshape(input.size(0), input.size(1), -1)\n",
    "input.shape\n"
   ]
  },
  {
   "cell_type": "code",
   "execution_count": 30,
   "metadata": {},
   "outputs": [
    {
     "data": {
      "text/plain": [
       "tensor([[[False, False,  True,  True],\n",
       "         [False, False,  True,  True],\n",
       "         [False, False,  True,  True],\n",
       "         [False, False,  True,  True]],\n",
       "\n",
       "        [[False, False, False,  True],\n",
       "         [False, False, False,  True],\n",
       "         [False, False, False,  True],\n",
       "         [False, False, False,  True]]])"
      ]
     },
     "execution_count": 30,
     "metadata": {},
     "output_type": "execute_result"
    }
   ],
   "source": [
    "x_bool = (x == 0) \n",
    "x_bool"
   ]
  },
  {
   "cell_type": "code",
   "execution_count": 29,
   "metadata": {},
   "outputs": [
    {
     "data": {
      "text/plain": [
       "tensor([[[-2, -2, -1, -1],\n",
       "         [-2, -2, -1, -1],\n",
       "         [-2, -2, -1, -1],\n",
       "         [-2, -2, -1, -1]],\n",
       "\n",
       "        [[-2, -2, -2, -1],\n",
       "         [-2, -2, -2, -1],\n",
       "         [-2, -2, -2, -1],\n",
       "         [-2, -2, -2, -1]]])"
      ]
     },
     "execution_count": 29,
     "metadata": {},
     "output_type": "execute_result"
    }
   ],
   "source": [
    "~x"
   ]
  },
  {
   "cell_type": "code",
   "execution_count": 32,
   "metadata": {},
   "outputs": [
    {
     "data": {
      "text/plain": [
       "tensor([[[False, False,  True,  True],\n",
       "         [False, False,  True,  True],\n",
       "         [False, False,  True,  True],\n",
       "         [False, False,  True,  True]],\n",
       "\n",
       "        [[False, False, False,  True],\n",
       "         [False, False, False,  True],\n",
       "         [False, False, False,  True],\n",
       "         [False, False, False,  True]]])"
      ]
     },
     "execution_count": 32,
     "metadata": {},
     "output_type": "execute_result"
    }
   ],
   "source": [
    "x"
   ]
  },
  {
   "cell_type": "code",
   "execution_count": null,
   "metadata": {},
   "outputs": [],
   "source": []
  },
  {
   "cell_type": "code",
   "execution_count": 35,
   "metadata": {},
   "outputs": [
    {
     "name": "stdout",
     "output_type": "stream",
     "text": [
      "torch.Size([2, 4])\n",
      "tensor([[1, 1, 0, 0],\n",
      "        [1, 1, 1, 0]])\n",
      "torch.Size([2, 4, 4])\n",
      "tensor([[[1, 1, 0, 0],\n",
      "         [1, 1, 0, 0],\n",
      "         [1, 1, 0, 0],\n",
      "         [1, 1, 0, 0]],\n",
      "\n",
      "        [[1, 1, 1, 0],\n",
      "         [1, 1, 1, 0],\n",
      "         [1, 1, 1, 0],\n",
      "         [1, 1, 1, 0]]])\n",
      "tensor([[1, 1, 1, 0],\n",
      "        [1, 1, 1, 0],\n",
      "        [1, 1, 1, 0],\n",
      "        [1, 1, 1, 0]])\n",
      "tensor([[[ 1,  7, 88, 88],\n",
      "         [ 1,  7, 88, 88],\n",
      "         [ 1,  7, 88, 88],\n",
      "         [ 1,  7, 88, 88]],\n",
      "\n",
      "        [[ 1,  7,  3, 88],\n",
      "         [ 1,  7,  3, 88],\n",
      "         [ 1,  7,  3, 88],\n",
      "         [ 1,  7,  3, 88]]])\n"
     ]
    }
   ],
   "source": [
    "x = torch.tensor([[1,1,0,0],[1,1,1,0]])\n",
    "print(x.size())\n",
    "print(x)\n",
    "x = x.repeat_interleave(x.size(-1), dim=0).reshape(x.size(0), x.size(1), -1)\n",
    "# x = x.unsqueeze(1).expand(2,4,4)\n",
    "print(x.size())\n",
    "print(x)\n",
    "print(x[1])\n",
    "# print(x)\n",
    "# x = (x==0)\n",
    "input[x==0] = 88\n",
    "print(input)"
   ]
  },
  {
   "cell_type": "code",
   "execution_count": 42,
   "metadata": {},
   "outputs": [
    {
     "name": "stdout",
     "output_type": "stream",
     "text": [
      "tensor([[1, 1, 0],\n",
      "        [1, 0, 0]])\n",
      "tensor([[[1, 1, 1, 1],\n",
      "         [1, 1, 1, 1],\n",
      "         [0, 0, 0, 0]],\n",
      "\n",
      "        [[1, 1, 1, 1],\n",
      "         [0, 0, 0, 0],\n",
      "         [0, 0, 0, 0]]])\n"
     ]
    }
   ],
   "source": [
    "import torch\n",
    "\n",
    "# 原始张量\n",
    "tensor = torch.tensor([[1, 1, 0], [1, 0, 0]])\n",
    "\n",
    "# 扩展为三维张量\n",
    "expanded_tensor = tensor.unsqueeze(2).expand(2,3,4)  # 在第三维重复\n",
    "\n",
    "print(tensor)\n",
    "\n",
    "print(expanded_tensor)\n"
   ]
  },
  {
   "cell_type": "code",
   "execution_count": 44,
   "metadata": {},
   "outputs": [
    {
     "data": {
      "text/plain": [
       "tensor([1, 1, 1, 1])"
      ]
     },
     "execution_count": 44,
     "metadata": {},
     "output_type": "execute_result"
    }
   ],
   "source": [
    "expanded_tensor[0][1]"
   ]
  }
 ],
 "metadata": {
  "kernelspec": {
   "display_name": "llm",
   "language": "python",
   "name": "python3"
  },
  "language_info": {
   "codemirror_mode": {
    "name": "ipython",
    "version": 3
   },
   "file_extension": ".py",
   "mimetype": "text/x-python",
   "name": "python",
   "nbconvert_exporter": "python",
   "pygments_lexer": "ipython3",
   "version": "3.10.16"
  }
 },
 "nbformat": 4,
 "nbformat_minor": 2
}
